{
  "nbformat": 4,
  "nbformat_minor": 0,
  "metadata": {
    "colab": {
      "provenance": []
    },
    "kernelspec": {
      "name": "python3",
      "display_name": "Python 3"
    },
    "language_info": {
      "name": "python"
    }
  },
  "cells": [
    {
      "cell_type": "code",
      "execution_count": 2,
      "metadata": {
        "colab": {
          "base_uri": "https://localhost:8080/"
        },
        "id": "RskZEblzRVvX",
        "outputId": "5388fbeb-aa6a-4fce-b42d-abedc30d8fce"
      },
      "outputs": [
        {
          "output_type": "stream",
          "name": "stdout",
          "text": [
            "Ваши фамилия,имя Нелепа Елизавета\n",
            "Сколько Вам лет? 18\n",
            "Где вы живете? Ставрополь \n",
            "Нелепа Елизавета\n",
            "18\n",
            "Ставрополь \n"
          ]
        }
      ],
      "source": [
        "a=input(\"Ваши фамилия,имя \")\n",
        "b=input(\"Сколько Вам лет? \")\n",
        "c=input(\"Где вы живете? \")\n",
        "print(a)\n",
        "print(b)\n",
        "print(c)"
      ]
    }
  ]
}